{
 "cells": [
  {
   "cell_type": "code",
   "execution_count": 4,
   "metadata": {},
   "outputs": [],
   "source": [
    "import scipy as sp\n",
    "import numpy as np\n",
    "from glob import glob\n",
    "from PIL import Image\n",
    "from scipy import io\n",
    "import os"
   ]
  },
  {
   "cell_type": "code",
   "execution_count": 6,
   "metadata": {},
   "outputs": [],
   "source": [
    "cars_annos = io.loadmat('./data/cars_annos.mat')\n",
    "for i in range(len(cars_annos['annotations'][0])):\n",
    "    f_name = cars_annos['annotations'][0][i][0][0]\n",
    "    f_path = os.path.join('./data', f_name)\n",
    "    im = Image.open(f_path)\n",
    "    bbox = []\n",
    "    for j in range(1, 5):\n",
    "        bbox.append(cars_annos['annotations'][0][i][j][0][0])\n",
    "    im = im.crop(bbox).resize((64,64))\n",
    "    if (cars_annos['annotations'][0][i][6][0][0]):\n",
    "        if im.mode == 'RGB':\n",
    "            im.save('./data/cars/train/%s' % f_name[8:])\n",
    "    else:\n",
    "        if im.mode == 'RGB':\n",
    "            im.save('./data/cars/test/%s' % f_name[8:])"
   ]
  },
  {
   "cell_type": "code",
   "execution_count": null,
   "metadata": {},
   "outputs": [],
   "source": []
  }
 ],
 "metadata": {
  "kernelspec": {
   "display_name": "Python 3",
   "language": "python",
   "name": "python3"
  },
  "language_info": {
   "codemirror_mode": {
    "name": "ipython",
    "version": 3
   },
   "file_extension": ".py",
   "mimetype": "text/x-python",
   "name": "python",
   "nbconvert_exporter": "python",
   "pygments_lexer": "ipython3",
   "version": "3.6.3"
  }
 },
 "nbformat": 4,
 "nbformat_minor": 2
}
