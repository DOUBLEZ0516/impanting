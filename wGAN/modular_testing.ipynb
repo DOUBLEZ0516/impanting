{
 "cells": [
  {
   "cell_type": "markdown",
   "metadata": {},
   "source": [
    "# imports"
   ]
  },
  {
   "cell_type": "code",
   "execution_count": 1,
   "metadata": {},
   "outputs": [],
   "source": [
    "import tensorflow as tf\n",
    "Dataset = tf.data.Dataset\n",
    "Iterator = tf.data.Iterator\n",
    "from utils import *"
   ]
  },
  {
   "cell_type": "markdown",
   "metadata": {},
   "source": [
    "# parameters"
   ]
  },
  {
   "cell_type": "code",
   "execution_count": 2,
   "metadata": {},
   "outputs": [],
   "source": [
    "data_dir = \"../../data/\"\n",
    "data_name = [\"sketch_mix/c1\",\"sketch_mix/c2\",\"sketch_mix/c3\",]"
   ]
  },
  {
   "cell_type": "markdown",
   "metadata": {},
   "source": [
    "# renaming pipeline (do not rerun)"
   ]
  },
  {
   "cell_type": "code",
   "execution_count": null,
   "metadata": {},
   "outputs": [],
   "source": [
    "import hashlib\n",
    "\n",
    "a = \"a test string\"\n",
    "print (hashlib.md5(a.encode('utf-8')).hexdigest())\n",
    "def md5_rename(folder_path)\n",
    "    for file_dir in tqdm(folder_path):\n",
    "        #print('p'+file_dir[16:])\n",
    "        file_name = ('p'+file_dir[16:]).encode('utf-8')\n",
    "        #print(file_dir[:14]+str(hashlib.md5(file_name).hexdigest())+'.png')\n",
    "        os.rename(file_dir, file_dir[:16]+str(hashlib.md5(file_name).hexdigest())+'.png')"
   ]
  },
  {
   "cell_type": "markdown",
   "metadata": {},
   "source": [
    "# image_parser"
   ]
  },
  {
   "cell_type": "code",
   "execution_count": 9,
   "metadata": {},
   "outputs": [],
   "source": [
    "def image_parser(image_loc):\n",
    "    image_file = tf.read_file(image_loc)\n",
    "    image_decoded = tf.image.decode_image(image_file, channels = 3)\n",
    "    image_decoded = tf.cast(image_decoded, tf.float32)\n",
    "    return image_decoded"
   ]
  },
  {
   "cell_type": "code",
   "execution_count": 49,
   "metadata": {},
   "outputs": [],
   "source": [
    "def image_parser3(image_loc1,image_loc2,image_loc3,):\n",
    "    image_file1 = tf.read_file(image_loc1)\n",
    "    image_file2 = tf.read_file(image_loc2)\n",
    "    image_file3 = tf.read_file(image_loc3)\n",
    "    image_decoded1 = tf.image.decode_image(image_file1, channels = 3)\n",
    "    image_decoded2 = tf.image.decode_image(image_file2, channels = 3)\n",
    "    image_decoded3 = tf.image.decode_image(image_file3, channels = 3)\n",
    "    image_decoded1 = tf.cast(image_decoded1, tf.float32)\n",
    "    image_decoded2 = tf.cast(image_decoded2, tf.float32)\n",
    "    image_decoded3 = tf.cast(image_decoded3, tf.float32)\n",
    "    return image_decoded1,image_decoded2,image_decoded3"
   ]
  },
  {
   "cell_type": "code",
   "execution_count": 75,
   "metadata": {},
   "outputs": [],
   "source": [
    "import glob\n",
    "import os\n",
    "def data_feeder2(data_folders,image_type, batch_size, test_partition):\n",
    "#     print(data_folder + '/*.png')\n",
    "    data_len = len(glob.glob(os.path.join(data_folders[0] + '/*.'+image_type)))\n",
    "    train_len = int(data_len*(1-test_partition))\n",
    "    test_len = data_len-train_len\n",
    "    print(\"tr: \"+str(train_len)+\"  ts: \"+str(test_len)+\"  tt: \"+str(data_len))\n",
    "    # train\n",
    "    train_paths = [sorted(glob.glob(os.path.join(data_folder + '/*.'+image_type)))[:train_len] \n",
    "                  for data_folder in data_folders]\n",
    "\n",
    "    train_path_tf = [tf.constant(data_path) for data_path in train_paths]\n",
    "    train_data = Dataset.from_tensor_slices(tuple(train_path_tf))\n",
    "    train_data = train_data.map(image_parser3)\n",
    "    train_data = train_data.batch(batch_size)\n",
    "    train_iterator = Iterator.from_structure(train_data.output_types,\n",
    "                                            train_data.output_shapes\n",
    "                                           )\n",
    "    train_init_op = train_iterator.make_initializer(train_data)\n",
    "    \n",
    "    # test\n",
    "    \n",
    "    test_paths = [sorted(glob.glob(os.path.join(data_folder + '/*.'+image_type)))[train_len:] \n",
    "                  for data_folder in data_folders]\n",
    "\n",
    "    test_path_tf = [tf.constant(data_path) for data_path in test_paths]\n",
    "    test_data = Dataset.from_tensor_slices(tuple(test_path_tf))\n",
    "    test_data = test_data.map(image_parser3)\n",
    "    test_data = test_data.batch(batch_size)\n",
    "    test_iterator = Iterator.from_structure(test_data.output_types,\n",
    "                                            test_data.output_shapes\n",
    "                                           )\n",
    "    test_init_op = test_iterator.make_initializer(test_data)\n",
    "    return train_iterator,train_init_op,test_iterator, test_init_op\n",
    "    "
   ]
  },
  {
   "cell_type": "code",
   "execution_count": 3,
   "metadata": {},
   "outputs": [
    {
     "name": "stdout",
     "output_type": "stream",
     "text": [
      "tr: 58613  ts: 6513  tt: 65126\n"
     ]
    }
   ],
   "source": [
    "train_iter,train_init,test_iter,test_init = data_feeder2(\n",
    "    [data_dir+name for name in data_name],\"png\",75,0.1)"
   ]
  },
  {
   "cell_type": "code",
   "execution_count": 77,
   "metadata": {},
   "outputs": [
    {
     "name": "stdout",
     "output_type": "stream",
     "text": [
      "(75, 299, 299, 3)\n"
     ]
    }
   ],
   "source": [
    "sess = tf.Session()\n",
    "sess.run(sketch_init)\n",
    "sketch_data = sess.run(sketch_iter.get_next())\n",
    "print(sketch_data[0].shape)"
   ]
  },
  {
   "cell_type": "code",
   "execution_count": 38,
   "metadata": {},
   "outputs": [
    {
     "name": "stdout",
     "output_type": "stream",
     "text": [
      "(1, 4, 9)\n"
     ]
    }
   ],
   "source": [
    "x = [1,2,3]\n",
    "a = [a*a for a in x]\n",
    "print(tuple(a))"
   ]
  },
  {
   "cell_type": "code",
   "execution_count": 78,
   "metadata": {},
   "outputs": [],
   "source": []
  },
  {
   "cell_type": "code",
   "execution_count": null,
   "metadata": {},
   "outputs": [],
   "source": []
  }
 ],
 "metadata": {
  "kernelspec": {
   "display_name": "Python 3",
   "language": "python",
   "name": "python3"
  },
  "language_info": {
   "codemirror_mode": {
    "name": "ipython",
    "version": 3
   },
   "file_extension": ".py",
   "mimetype": "text/x-python",
   "name": "python",
   "nbconvert_exporter": "python",
   "pygments_lexer": "ipython3",
   "version": "3.6.5"
  }
 },
 "nbformat": 4,
 "nbformat_minor": 2
}
